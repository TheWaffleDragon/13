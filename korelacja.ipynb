{
 "cells": [
  {
   "cell_type": "code",
   "execution_count": 1,
   "id": "bd0cc6c8",
   "metadata": {},
   "outputs": [],
   "source": [
    "import pandas as pd"
   ]
  },
  {
   "cell_type": "code",
   "execution_count": 2,
   "id": "32a5d7a7",
   "metadata": {},
   "outputs": [],
   "source": [
    "fertility_rate = pd.Series([1.3,1.95,2.466,1.6,2.952,1.801,1.34,1.34,1.63,2.326,2.436,6.563,1.283,1.43,1.988,1.61,1.921,2.4,1.495,4.705])\n",
    "\n",
    "life_expectancy_at_birth = pd.Series([76.84878,81.40732,77.57895,74.16341,68.84907,73.88595,75.26829,76.26098,80.57244,65.46259,67.5482,55.02451,76.2799,82.29024,69.80695,81.40112,82.19756,74.22683,80.12888,45.55095])\n",
    "\n",
    "df = pd.concat([fertility_rate, life_expectancy_at_birth],axis=1)\n",
    "df = df.rename(columns ={0:'fertility_rate',1:'life_expectancy_at_birth'})"
   ]
  },
  {
   "cell_type": "code",
   "execution_count": 3,
   "id": "da6aac48",
   "metadata": {},
   "outputs": [
    {
     "name": "stdout",
     "output_type": "stream",
     "text": [
      "    fertility_rate  life_expectancy_at_birth\n",
      "0            1.300                  76.84878\n",
      "1            1.950                  81.40732\n",
      "2            2.466                  77.57895\n",
      "3            1.600                  74.16341\n",
      "4            2.952                  68.84907\n",
      "5            1.801                  73.88595\n",
      "6            1.340                  75.26829\n",
      "7            1.340                  76.26098\n",
      "8            1.630                  80.57244\n",
      "9            2.326                  65.46259\n",
      "10           2.436                  67.54820\n",
      "11           6.563                  55.02451\n",
      "12           1.283                  76.27990\n",
      "13           1.430                  82.29024\n",
      "14           1.988                  69.80695\n",
      "15           1.610                  81.40112\n",
      "16           1.921                  82.19756\n",
      "17           2.400                  74.22683\n",
      "18           1.495                  80.12888\n",
      "19           4.705                  45.55095\n"
     ]
    }
   ],
   "source": [
    "print(df)"
   ]
  },
  {
   "cell_type": "markdown",
   "id": "df2910bf",
   "metadata": {},
   "source": [
    "# Miary położenia rozkładu\n"
   ]
  },
  {
   "cell_type": "code",
   "execution_count": 4,
   "id": "576e0145",
   "metadata": {},
   "outputs": [
    {
     "data": {
      "text/plain": [
       "73.23764600000001"
      ]
     },
     "execution_count": 4,
     "metadata": {},
     "output_type": "execute_result"
    }
   ],
   "source": [
    "#Srednia arytmetyczna\n",
    "sum_col = df.sum(axis=0)\n",
    "\n",
    "life_expectancy_at_birth_avr= sum_col[1]/len(df['life_expectancy_at_birth'])\n",
    "life_expectancy_at_birth_avr"
   ]
  },
  {
   "cell_type": "code",
   "execution_count": 5,
   "id": "ea7eb68d",
   "metadata": {},
   "outputs": [
    {
     "data": {
      "text/plain": [
       "75.764635"
      ]
     },
     "execution_count": 5,
     "metadata": {},
     "output_type": "execute_result"
    }
   ],
   "source": [
    "#mediana\n",
    "life_expectancy_at_birth_sorted = df['life_expectancy_at_birth'].sort_values()\n",
    "life_expectancy_at_birth_sorted.reset_index(drop=True,inplace=True)\n",
    "\n",
    "n=len(life_expectancy_at_birth_sorted)//2\n",
    "\n",
    "life_expectancy_at_birth_median=(life_expectancy_at_birth_sorted[n]+life_expectancy_at_birth_sorted[n-1])/2\n",
    "\n",
    "life_expectancy_at_birth_median\n"
   ]
  },
  {
   "cell_type": "code",
   "execution_count": 9,
   "id": "5a70c553",
   "metadata": {},
   "outputs": [
    {
     "data": {
      "text/plain": [
       "'No mode found'"
      ]
     },
     "execution_count": 9,
     "metadata": {},
     "output_type": "execute_result"
    }
   ],
   "source": [
    "#dominanta life_expectancy_at_birth\n",
    "from collections import Counter \n",
    "data = Counter(life_expectancy_at_birth)\n",
    "find_mode = dict(data)\n",
    "mode = [k for k, v in find_mode.items() if v == max(list(data.values()))]\n",
    "  \n",
    "if len(mode) == 2*n:\n",
    "    find_mode = \"No mode found\"\n",
    "else:\n",
    "    find_mode = \"Mode is / are: \" + ', '.join(map(str, mode))\n",
    "      \n",
    "find_mode\n",
    "\n"
   ]
  },
  {
   "cell_type": "markdown",
   "id": "647c7876",
   "metadata": {},
   "source": [
    "# Miary rozproszenia rozkładu"
   ]
  },
  {
   "cell_type": "code",
   "execution_count": 11,
   "id": "7d742fb2",
   "metadata": {},
   "outputs": [
    {
     "data": {
      "text/plain": [
       "88.19411239750946"
      ]
     },
     "execution_count": 11,
     "metadata": {},
     "output_type": "execute_result"
    }
   ],
   "source": [
    "#Wariancja\n",
    "sq_life_expectancy_at_birth =life_expectancy_at_birth.apply(lambda life_expectancy_at_birth: (life_expectancy_at_birth-life_expectancy_at_birth_avr)**2)\n",
    "var_life_expectancy_at_birth = sq_life_expectancy_at_birth.sum()/(len(sq_life_expectancy_at_birth)-1)\n",
    "var_life_expectancy_at_birth\n",
    "\n"
   ]
  },
  {
   "cell_type": "code",
   "execution_count": 12,
   "id": "8915862f",
   "metadata": {},
   "outputs": [
    {
     "data": {
      "text/plain": [
       "9.39117204599668"
      ]
     },
     "execution_count": 12,
     "metadata": {},
     "output_type": "execute_result"
    }
   ],
   "source": [
    "#Odchylenie standardowe\n",
    "std_life_expectancy_at_birth = var_life_expectancy_at_birth**(0.5)\n",
    "std_life_expectancy_at_birth"
   ]
  },
  {
   "cell_type": "markdown",
   "id": "549f01cb",
   "metadata": {},
   "source": [
    "# Korelacja"
   ]
  },
  {
   "cell_type": "code",
   "execution_count": 20,
   "id": "40fe622c",
   "metadata": {},
   "outputs": [
    {
     "data": {
      "text/plain": [
       "-9.943704446631578"
      ]
     },
     "execution_count": 20,
     "metadata": {},
     "output_type": "execute_result"
    }
   ],
   "source": [
    "fertility_rate_avr= sum_col[0]/len(df['fertility_rate'])\n",
    "cov = sum([(fertility_rate_i - fertility_rate_avr) * (life_expectancy_at_birth_i - life_expectancy_at_birth_avr) for fertility_rate_i, life_expectancy_at_birth_i in zip(fertility_rate, life_expectancy_at_birth)]) / (len(fertility_rate) - 1)\n",
    "cov\n"
   ]
  },
  {
   "cell_type": "code",
   "execution_count": 21,
   "id": "f5312717",
   "metadata": {},
   "outputs": [
    {
     "data": {
      "text/plain": [
       "1.2904866727834035"
      ]
     },
     "execution_count": 21,
     "metadata": {},
     "output_type": "execute_result"
    }
   ],
   "source": [
    "#std_y\n",
    "sq_fertility_rate = fertility_rate.apply(lambda fertility_rate: (fertility_rate-fertility_rate_avr)**2)\n",
    "var_fertility_rate = sq_fertility_rate.sum()/(len(sq_fertility_rate)-1)\n",
    "std_fertility_rate = var_fertility_rate**(0.5)\n",
    "std_fertility_rate\n"
   ]
  },
  {
   "cell_type": "code",
   "execution_count": 22,
   "id": "23b1c180",
   "metadata": {},
   "outputs": [
    {
     "data": {
      "text/plain": [
       "-0.8204930122649574"
      ]
     },
     "execution_count": 22,
     "metadata": {},
     "output_type": "execute_result"
    }
   ],
   "source": [
    "cor = cov/(std_fertility_rate*std_life_expectancy_at_birth)\n",
    "cor\n"
   ]
  },
  {
   "cell_type": "markdown",
   "id": "08613d0c",
   "metadata": {},
   "source": [
    "# korelacja bardzo wysoka wg klasyfikacji J. Guilforda.\n",
    "Korelacja ujemna oznacza, że wraz, że wzrost współczynnika dzietności oznacza spadek przewidywanej długości życia.\n",
    "W krajach z wysoką dzietnością przewidywana długość życia jest statystycznie krótsza. Wynika to z faktu, że liczba dzieci w rodzinie.\n",
    "Spada wraz ze wzrostem rozwoju kraju. Liczba dzieci i długość życia niekoniecznie są zależne od siebie nawzajem, ale na obie zmienne wpływa ten sam zestaw czynników zewnętrznych (poziom rozwinięcia kraju, poziom edukacji, dostęp do opieki zdrowotnej…)."
   ]
  },
  {
   "cell_type": "markdown",
   "id": "db7f311e",
   "metadata": {},
   "source": [
    "# Średnia oczekiwana długość życia"
   ]
  },
  {
   "cell_type": "code",
   "execution_count": 25,
   "id": "c4c8ccb1",
   "metadata": {},
   "outputs": [],
   "source": [
    "std_pop = 9.09\n",
    "n_sq = 20**(0.5)\n",
    "t_min = life_expectancy_at_birth_avr - 0.1 * (std_pop/n_sq)\n",
    "t_max = life_expectancy_at_birth_avr + 0.1 * (std_pop/n_sq)"
   ]
  },
  {
   "cell_type": "code",
   "execution_count": 26,
   "id": "e440f261",
   "metadata": {},
   "outputs": [
    {
     "data": {
      "text/plain": [
       "73.03438742084528"
      ]
     },
     "execution_count": 26,
     "metadata": {},
     "output_type": "execute_result"
    }
   ],
   "source": [
    "t_min"
   ]
  },
  {
   "cell_type": "code",
   "execution_count": 27,
   "id": "189bba8d",
   "metadata": {},
   "outputs": [
    {
     "data": {
      "text/plain": [
       "73.44090457915475"
      ]
     },
     "execution_count": 27,
     "metadata": {},
     "output_type": "execute_result"
    }
   ],
   "source": [
    "t_max"
   ]
  },
  {
   "cell_type": "code",
   "execution_count": null,
   "id": "d2496d70",
   "metadata": {},
   "outputs": [],
   "source": []
  }
 ],
 "metadata": {
  "kernelspec": {
   "display_name": "Python 3",
   "language": "python",
   "name": "python3"
  },
  "language_info": {
   "codemirror_mode": {
    "name": "ipython",
    "version": 3
   },
   "file_extension": ".py",
   "mimetype": "text/x-python",
   "name": "python",
   "nbconvert_exporter": "python",
   "pygments_lexer": "ipython3",
   "version": "3.8.8"
  }
 },
 "nbformat": 4,
 "nbformat_minor": 5
}
